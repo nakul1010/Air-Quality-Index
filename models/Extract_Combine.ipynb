{
 "cells": [
  {
   "cell_type": "code",
   "execution_count": 1,
   "metadata": {},
   "outputs": [],
   "source": [
    "from Plot_AQI import avg_data_2013,avg_data_2014,avg_data_2015,avg_data_2016,avg_data_2017,avg_data_2018\n",
    "#from my_Plot_AQI import avg_data ModuleNotFoundError: No module named 'my_Plot_AQI'\n",
    "import requests\n",
    "import sys\n",
    "import pandas as pd\n",
    "import numpy as np\n",
    "from bs4 import BeautifulSoup\n",
    "import os\n",
    "import csv"
   ]
  },
  {
   "cell_type": "code",
   "execution_count": 2,
   "metadata": {},
   "outputs": [],
   "source": [
    "def met_data(month, year):\n",
    "    \n",
    "    file_html = open('Data/Html_Data/{}/{}.html'.format(year,month), 'rb')\n",
    "    plain_text = file_html.read()\n",
    "\n",
    "    tempD = []\n",
    "    finalD = []\n",
    "\n",
    "    soup = BeautifulSoup(plain_text, \"lxml\")\n",
    "    for table in soup.findAll('table', {'class': 'medias mensuales numspan'}):\n",
    "        for tbody in table:\n",
    "            for tr in tbody:\n",
    "                a = tr.get_text()\n",
    "                tempD.append(a)#had all the table\n",
    "\n",
    "    rows = len(tempD) / 15\n",
    "\n",
    "    for times in range(round(rows)):\n",
    "        newtempD = []\n",
    "        for i in range(15):\n",
    "            newtempD.append(tempD[0])#picking each cell in a row\n",
    "            tempD.pop(0)\n",
    "        finalD.append(newtempD)#appending the full row\n",
    "\n",
    "    length = len(finalD)\n",
    "\n",
    "    finalD.pop(length - 1)#last row ie 33 ['Monthly means and totals:',\n",
    "    finalD.pop(0)# 1st Row\n",
    "\n",
    "    for a in range(len(finalD)):\n",
    "        finalD[a].pop(6)\n",
    "        finalD[a].pop(13)\n",
    "        finalD[a].pop(12)\n",
    "        finalD[a].pop(11)\n",
    "        finalD[a].pop(10)\n",
    "        finalD[a].pop(9)\n",
    "        finalD[a].pop(0)\n",
    "\n",
    "    return finalD#final DataFrame 7columns 365/364 rows\n"
   ]
  },
  {
   "cell_type": "code",
   "execution_count": 17,
   "metadata": {},
   "outputs": [],
   "source": [
    "def data_combine(year, cs):\n",
    "    for a in pd.read_csv(\"Data/Real-Data/real_\" + str(year) + \".csv\" , chunksize=cs):\n",
    "        df = pd.DataFrame(data=a)\n",
    "        mylist = df.values.tolist()\n",
    "    return mylist\n",
    "\n"
   ]
  },
  {
   "cell_type": "code",
   "execution_count": 4,
   "metadata": {},
   "outputs": [],
   "source": [
    "if __name__ == \"__main__\":\n",
    "    if not os.path.exists(\"Data/Real-Data\"):\n",
    "        os.makedirs(\"Data/Real-Data\")\n",
    "    for year in range(2013,2019):\n",
    "        final_data = []\n",
    "        with open('Data/Real-Data/real_' + str(year) +'.csv' ,'w') as csvfile:\n",
    "            wr = csv.writer(csvfile, dialect='excel')\n",
    "            wr.writerow(\n",
    "                    ['T', 'TM', 'Tm', 'SLP', 'H', 'VV', 'V', 'VM' ,'PM 2.5']\n",
    "                    )\n",
    "        for month in range(1, 13):\n",
    "            temp = met_data(month,year)\n",
    "            final_data = final_data + temp\n",
    "        \n",
    "        pm = getattr(sys.modules[__name__], 'avg_data_{}'.format(year))()\n",
    "        \n",
    "        if len(pm) == 364:\n",
    "            pm.insert(364,'--')\n",
    "        \n",
    "        for i in range(len(final_data) - 1):\n",
    "            final_data[i].insert(8, pm[i]) #in 8th column insert the pm \n",
    "            \n",
    "        with open('Data/Real-Data/real_' + str(year) + '.csv', 'a') as csvfile:\n",
    "            wr = csv.writer(csvfile, dialect='excel')\n",
    "            for row in final_data:\n",
    "                flag = 0\n",
    "                for elem in row:\n",
    "                    if elem == '' or elem == '-':\n",
    "                        flag = 1\n",
    "                if flag != 1:\n",
    "                    wr.writerow(row)      "
   ]
  },
  {
   "cell_type": "code",
   "execution_count": 19,
   "metadata": {},
   "outputs": [],
   "source": [
    "data_2013 = data_combine(2013,600)\n",
    "data_2014 = data_combine(2014,600)\n",
    "data_2015 = data_combine(2015,600)\n",
    "data_2016 = data_combine(2016,600)\n",
    "data_2017 = data_combine(2017,600)\n",
    "data_2018 = data_combine(2018,600)\n",
    "\n",
    "total = data_2013 + data_2014 + data_2015 + data_2016 + data_2017 + data_2018\n",
    "vtotal = data_2013 + data_2014 + data_2015 + data_2016\n",
    "\n",
    "with open('Data/Real-Data/Real_Combine.csv' , 'w') as csvfile:\n",
    "    wr = csv.writer(csvfile , dialect='excel')\n",
    "    wr.writerow(\n",
    "            ['T', 'TM', 'Tm', 'SLP', 'H', 'VV', 'V', 'VM', 'PM 2.5'])\n",
    "    wr.writerows(total)\n",
    "        \n",
    "        \n",
    "with open('Data/Real-Data/VReal_Combine.csv' , 'w') as csvfile:\n",
    "    wr = csv.writer(csvfile , dialect='excel')\n",
    "    wr.writerow(\n",
    "            ['T', 'TM', 'Tm', 'SLP', 'H', 'VV', 'V', 'VM', 'PM 2.5'])\n",
    "    wr.writerows(vtotal)\n"
   ]
  },
  {
   "cell_type": "code",
   "execution_count": 23,
   "metadata": {},
   "outputs": [
    {
     "name": "stdout",
     "output_type": "stream",
     "text": [
      "(1090, 9)\n"
     ]
    },
    {
     "data": {
      "text/html": [
       "<div>\n",
       "<style scoped>\n",
       "    .dataframe tbody tr th:only-of-type {\n",
       "        vertical-align: middle;\n",
       "    }\n",
       "\n",
       "    .dataframe tbody tr th {\n",
       "        vertical-align: top;\n",
       "    }\n",
       "\n",
       "    .dataframe thead th {\n",
       "        text-align: right;\n",
       "    }\n",
       "</style>\n",
       "<table border=\"1\" class=\"dataframe\">\n",
       "  <thead>\n",
       "    <tr style=\"text-align: right;\">\n",
       "      <th></th>\n",
       "      <th>T</th>\n",
       "      <th>TM</th>\n",
       "      <th>Tm</th>\n",
       "      <th>SLP</th>\n",
       "      <th>H</th>\n",
       "      <th>VV</th>\n",
       "      <th>V</th>\n",
       "      <th>VM</th>\n",
       "      <th>PM 2.5</th>\n",
       "    </tr>\n",
       "  </thead>\n",
       "  <tbody>\n",
       "    <tr>\n",
       "      <th>0</th>\n",
       "      <td>7.4</td>\n",
       "      <td>9.8</td>\n",
       "      <td>4.8</td>\n",
       "      <td>1017.6</td>\n",
       "      <td>93.0</td>\n",
       "      <td>0.5</td>\n",
       "      <td>4.3</td>\n",
       "      <td>9.4</td>\n",
       "      <td>219.720833</td>\n",
       "    </tr>\n",
       "    <tr>\n",
       "      <th>1</th>\n",
       "      <td>7.8</td>\n",
       "      <td>12.7</td>\n",
       "      <td>4.4</td>\n",
       "      <td>1018.5</td>\n",
       "      <td>87.0</td>\n",
       "      <td>0.6</td>\n",
       "      <td>4.4</td>\n",
       "      <td>11.1</td>\n",
       "      <td>182.187500</td>\n",
       "    </tr>\n",
       "    <tr>\n",
       "      <th>2</th>\n",
       "      <td>6.7</td>\n",
       "      <td>13.4</td>\n",
       "      <td>2.4</td>\n",
       "      <td>1019.4</td>\n",
       "      <td>82.0</td>\n",
       "      <td>0.6</td>\n",
       "      <td>4.8</td>\n",
       "      <td>11.1</td>\n",
       "      <td>154.037500</td>\n",
       "    </tr>\n",
       "    <tr>\n",
       "      <th>3</th>\n",
       "      <td>8.6</td>\n",
       "      <td>15.5</td>\n",
       "      <td>3.3</td>\n",
       "      <td>1018.7</td>\n",
       "      <td>72.0</td>\n",
       "      <td>0.8</td>\n",
       "      <td>8.1</td>\n",
       "      <td>20.6</td>\n",
       "      <td>223.208333</td>\n",
       "    </tr>\n",
       "    <tr>\n",
       "      <th>4</th>\n",
       "      <td>12.4</td>\n",
       "      <td>20.9</td>\n",
       "      <td>4.4</td>\n",
       "      <td>1017.3</td>\n",
       "      <td>61.0</td>\n",
       "      <td>1.3</td>\n",
       "      <td>8.7</td>\n",
       "      <td>22.2</td>\n",
       "      <td>200.645833</td>\n",
       "    </tr>\n",
       "  </tbody>\n",
       "</table>\n",
       "</div>"
      ],
      "text/plain": [
       "      T    TM   Tm     SLP     H   VV    V    VM      PM 2.5\n",
       "0   7.4   9.8  4.8  1017.6  93.0  0.5  4.3   9.4  219.720833\n",
       "1   7.8  12.7  4.4  1018.5  87.0  0.6  4.4  11.1  182.187500\n",
       "2   6.7  13.4  2.4  1019.4  82.0  0.6  4.8  11.1  154.037500\n",
       "3   8.6  15.5  3.3  1018.7  72.0  0.8  8.1  20.6  223.208333\n",
       "4  12.4  20.9  4.4  1017.3  61.0  1.3  8.7  22.2  200.645833"
      ]
     },
     "execution_count": 23,
     "metadata": {},
     "output_type": "execute_result"
    }
   ],
   "source": [
    "df = pd.read_csv('Data/Real-Data/Real_Combine.csv')\n",
    "print(df.shape)\n",
    "df.head()"
   ]
  },
  {
   "cell_type": "markdown",
   "metadata": {},
   "source": [
    "# Rough Code"
   ]
  },
  {
   "cell_type": "code",
   "execution_count": 16,
   "metadata": {},
   "outputs": [],
   "source": [
    "file_html = open('Data/Html_Data/2017/1.html')\n",
    "plain_text = file_html.read()\n",
    "\n",
    "tempD = []\n",
    "finalD = []\n",
    "soup = BeautifulSoup(plain_text,\"lxml\")\n",
    "for table in soup.findAll('table',{'class':'medias mensuales numspan'}):\n",
    "    for tbody in table:\n",
    "        for tr in tbody:\n",
    "            a = tr.get_text()\n",
    "            tempD.append(a)#had all table\n",
    "rows = len(tempD)/15\n",
    "\n",
    "for times in range(round(rows)):\n",
    "    newtempD = []\n",
    "    for i in range(15):\n",
    "        newtempD.append(tempD[0])#picking each cell in a row\n",
    "        tempD.pop(0)\n",
    "    finalD.append(newtempD)#appending the whole row\n",
    "    \n",
    "length = len(finalD)\n",
    "\n",
    "finalD.pop(length - 1)#last row ie 33 ['Monthly means and totals:',\n",
    "finalD.pop(0) #1st row\n",
    "\n",
    "for a in range(len(finalD)):\n",
    "    finalD[a].pop(6)\n",
    "    finalD[a].pop(13)\n",
    "    finalD[a].pop(12)\n",
    "    finalD[a].pop(11)\n",
    "    finalD[a].pop(10)\n",
    "    finalD[a].pop(9)\n",
    "    finalD[a].pop(0)\n"
   ]
  },
  {
   "cell_type": "code",
   "execution_count": 17,
   "metadata": {},
   "outputs": [
    {
     "data": {
      "text/plain": [
       "[['21', '27.6', '14.6', '-', '61', '6', '2.2', '3.5'],\n",
       " ['21.6', '27.7', '17', '-', '59', '6.8', '2', '3.5'],\n",
       " ['22.3', '29', '16.1', '-', '48', '6.9', '2.8', '3.5'],\n",
       " ['', '', '', '', '', '', '', ''],\n",
       " ['', '', '', '', '', '', '', ''],\n",
       " ['', '', '', '', '', '', '', ''],\n",
       " ['20.9', '29', '16', '-', '66', '5.5', '2.2', '3.5'],\n",
       " ['20.9', '27.8', '16', '-', '62', '6.3', '3', '5.4'],\n",
       " ['21', '28.5', '15', '-', '58', '6.8', '3', '5.4'],\n",
       " ['', '', '', '', '', '', '', ''],\n",
       " ['', '', '', '', '', '', '', ''],\n",
       " ['', '', '', '', '', '', '', ''],\n",
       " ['21.2', '28', '16.9', '-', '66', '5.5', '2.2', '3.5'],\n",
       " ['20.7', '28.3', '17.2', '-', '61', '6.3', '2.2', '3.5'],\n",
       " ['20.7', '27.2', '15.5', '-', '61', '6.3', '3.3', '5.4'],\n",
       " ['', '', '', '', '', '', '', ''],\n",
       " ['', '', '', '', '', '', '', ''],\n",
       " ['', '', '', '', '', '', '', ''],\n",
       " ['20.4', '28.2', '15.8', '-', '64', '6.3', '2.8', '7.6'],\n",
       " ['21.7', '27.6', '15.3', '-', '64', '6.3', '3.5', '5.4'],\n",
       " ['21.7', '28.9', '18.5', '-', '68', '6.3', '5.2', '11.1'],\n",
       " ['', '', '', '', '', '', '', ''],\n",
       " ['', '', '', '', '', '', '', ''],\n",
       " ['', '', '', '', '', '', '', ''],\n",
       " ['22.6', '30.3', '16.7', '-', '52', '6.3', '3.1', '5.4'],\n",
       " ['21.9', '29.2', '18.3', '-', '75', '4', '3.7', '7.6'],\n",
       " ['22.1', '26', '19.7', '-', '79', '6.3', '3.5', '5.4'],\n",
       " ['', '', '', '', '', '', '', ''],\n",
       " ['', '', '', '', '', '', '', ''],\n",
       " ['', '', '', '', '', '', '', ''],\n",
       " ['23.9', '31.7', '18.2', '-', '54', '6.9', '2.8', '7.6']]"
      ]
     },
     "execution_count": 17,
     "metadata": {},
     "output_type": "execute_result"
    }
   ],
   "source": [
    "finalD"
   ]
  },
  {
   "cell_type": "code",
   "execution_count": 13,
   "metadata": {},
   "outputs": [],
   "source": [
    "pm = getattr(sys.modules[__name__], 'avg_data_2013')()"
   ]
  },
  {
   "cell_type": "code",
   "execution_count": 15,
   "metadata": {},
   "outputs": [
    {
     "data": {
      "text/plain": [
       "365"
      ]
     },
     "execution_count": 15,
     "metadata": {},
     "output_type": "execute_result"
    }
   ],
   "source": [
    "len(pm)"
   ]
  },
  {
   "cell_type": "code",
   "execution_count": 12,
   "metadata": {},
   "outputs": [
    {
     "name": "stdout",
     "output_type": "stream",
     "text": [
      "185\n"
     ]
    }
   ],
   "source": [
    "year = 2013\n",
    "for a in pd.read_csv('Data/Real-Data/real_' + str(year) + '.csv' , chunksize=600):\n",
    "    df = pd.DataFrame(data=a)\n",
    "    mylist = df.values.tolist()\n",
    "    print(len(mylist))\n",
    "    "
   ]
  },
  {
   "cell_type": "code",
   "execution_count": 13,
   "metadata": {},
   "outputs": [
    {
     "name": "stdout",
     "output_type": "stream",
     "text": [
      "<class 'pandas.core.frame.DataFrame'>\n",
      "185\n"
     ]
    }
   ],
   "source": [
    "df = pd.read_csv('Data/Real-Data/real_2013.csv')\n",
    "print(type(df))\n",
    "print(len(df.values.tolist()))"
   ]
  },
  {
   "cell_type": "code",
   "execution_count": null,
   "metadata": {},
   "outputs": [],
   "source": []
  }
 ],
 "metadata": {
  "kernelspec": {
   "display_name": "Python 3",
   "language": "python",
   "name": "python3"
  },
  "language_info": {
   "codemirror_mode": {
    "name": "ipython",
    "version": 3
   },
   "file_extension": ".py",
   "mimetype": "text/x-python",
   "name": "python",
   "nbconvert_exporter": "python",
   "pygments_lexer": "ipython3",
   "version": "3.7.7"
  }
 },
 "nbformat": 4,
 "nbformat_minor": 4
}
